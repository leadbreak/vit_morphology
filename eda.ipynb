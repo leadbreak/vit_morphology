{
 "cells": [
  {
   "cell_type": "markdown",
   "metadata": {},
   "source": [
    "# STEP 00. SETUP\n",
    "- reference : https://www.kaggle.com/competitions/body-morphometry-chest/data"
   ]
  },
  {
   "cell_type": "code",
   "execution_count": null,
   "metadata": {},
   "outputs": [],
   "source": [
    "import numpy as np\n",
    "from PIL import Image"
   ]
  },
  {
   "cell_type": "code",
   "execution_count": null,
   "metadata": {},
   "outputs": [],
   "source": [
    "import numpy as np\n",
    "import pydicom\n",
    "\n",
    "def transform_to_hu(medical_image, image):\n",
    "    hu_image = image * medical_image.RescaleSlope + medical_image.RescaleIntercept\n",
    "    hu_image[hu_image < -1024] = -1024\n",
    "    return hu_image\n",
    "\n",
    "def apply_window(image, window_center, window_width):\n",
    "    window_image = image.copy()\n",
    "    image_min = window_center - (window_width / 2)\n",
    "    image_max = window_center + (window_width / 2)\n",
    "    window_image[window_image < image_min] = image_min\n",
    "    window_image[window_image > image_max] = image_max\n",
    "    return window_image\n",
    "\n",
    "def resize_normalize(image):\n",
    "    image = np.array(image, dtype=np.float64)\n",
    "    image -= np.min(image)\n",
    "    image /= np.max(image)\n",
    "    return image\n",
    "\n",
    "def read_dicom(path, window_width, window_level):\n",
    "    image_medical = pydicom.dcmread(path)\n",
    "    image_data = image_medical.pixel_array\n",
    "\n",
    "    image_hu = transform_to_hu(image_medical, image_data)\n",
    "    image_window = window_image(image_hu.copy(), window_level, window_width)\n",
    "    image_window_norm = resize_normalize(image_window)\n",
    "\n",
    "    image_window_norm = np.expand_dims(image_window_norm, axis=2)   # (512, 512, 1)\n",
    "    image_ths = np.concatenate([image_window_norm, image_window_norm, image_window_norm], axis=2)   # (512, 512, 3)\n",
    "    return image_ths"
   ]
  },
  {
   "cell_type": "code",
   "execution_count": null,
   "metadata": {},
   "outputs": [],
   "source": []
  }
 ],
 "metadata": {
  "language_info": {
   "name": "python"
  },
  "orig_nbformat": 4
 },
 "nbformat": 4,
 "nbformat_minor": 2
}
