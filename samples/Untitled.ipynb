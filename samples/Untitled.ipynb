{
 "cells": [
  {
   "cell_type": "code",
   "execution_count": 1,
   "id": "8283fe0b-313e-4eae-bac7-41866439b69a",
   "metadata": {},
   "outputs": [],
   "source": [
    "import numpy as np\n",
    "import matplotlib.pyplot as plt\n",
    "\n",
    "from glob import glob\n",
    "from tqdm import tqdm\n",
    "import cv2\n",
    "import datetime\n",
    "\n",
    "import torch\n",
    "import torch.nn as nn\n",
    "import torch.nn.functional as F\n",
    "import torchvision.transforms as T\n",
    "\n",
    "from PIL import Image"
   ]
  },
  {
   "cell_type": "code",
   "execution_count": 2,
   "id": "98bc2abe-9e11-4c6c-a53f-70b5e67b4644",
   "metadata": {},
   "outputs": [
    {
     "name": "stdout",
     "output_type": "stream",
     "text": [
      "(100, 2, 512, 512) (100, 2, 512, 512)\n"
     ]
    }
   ],
   "source": [
    "device = 'cuda:1'\n",
    "inputs = np.load('./inputs.npy')\n",
    "outputs = np.load('./outputs.npy')\n",
    "\n",
    "print(inputs.shape, outputs.shape)"
   ]
  },
  {
   "cell_type": "code",
   "execution_count": 24,
   "id": "fe5609e5-2e44-4949-893c-7269fba83f25",
   "metadata": {},
   "outputs": [],
   "source": [
    "inputs[:, 0] = inputs[:, 0].astype('uint8') / 255\n",
    "inputs[:, 1] = (inputs[:, 1] * 255).astype('uint8')"
   ]
  },
  {
   "cell_type": "code",
   "execution_count": 25,
   "id": "765ab15e-1ca4-42b6-8b5e-1e45b02412ec",
   "metadata": {},
   "outputs": [
    {
     "data": {
      "text/plain": [
       "(1.0, 0.0)"
      ]
     },
     "execution_count": 25,
     "metadata": {},
     "output_type": "execute_result"
    }
   ],
   "source": [
    "np.max(inputs[:, 0]), np.min(inputs[:, 0])"
   ]
  },
  {
   "cell_type": "code",
   "execution_count": 20,
   "id": "ab2eae0f-7cdc-4857-be2a-70f3c21a911f",
   "metadata": {},
   "outputs": [
    {
     "data": {
      "text/plain": [
       "(255, 0)"
      ]
     },
     "execution_count": 20,
     "metadata": {},
     "output_type": "execute_result"
    }
   ],
   "source": [
    "np.max(inputs[:, 0].astype('uint8')), np.min(inputs[:, 0]).astype('uint8')"
   ]
  },
  {
   "cell_type": "code",
   "execution_count": 26,
   "id": "a918c704-c5d7-408d-a8dd-3a1ddb46bd2d",
   "metadata": {},
   "outputs": [
    {
     "data": {
      "text/plain": [
       "(255.0, 0.0)"
      ]
     },
     "execution_count": 26,
     "metadata": {},
     "output_type": "execute_result"
    }
   ],
   "source": [
    "np.max(inputs[:, 1]), np.min(inputs[:, 1])"
   ]
  }
 ],
 "metadata": {
  "kernelspec": {
   "display_name": "Python 3 (ipykernel)",
   "language": "python",
   "name": "python3"
  },
  "language_info": {
   "codemirror_mode": {
    "name": "ipython",
    "version": 3
   },
   "file_extension": ".py",
   "mimetype": "text/x-python",
   "name": "python",
   "nbconvert_exporter": "python",
   "pygments_lexer": "ipython3",
   "version": "3.8.10"
  }
 },
 "nbformat": 4,
 "nbformat_minor": 5
}
